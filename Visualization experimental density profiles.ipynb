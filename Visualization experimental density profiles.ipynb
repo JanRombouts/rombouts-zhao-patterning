{
 "cells": [
  {
   "cell_type": "code",
   "execution_count": 1,
   "id": "abe2cd14-02c1-41ce-a5d5-3321847126a4",
   "metadata": {},
   "outputs": [],
   "source": [
    "import numpy as np\n",
    "import matplotlib.pyplot as plt\n",
    "import pandas as pd\n",
    "\n",
    "import ipywidgets\n",
    "import matplotlib.gridspec as gridspec\n",
    "import matplotlib.animation as manimation\n",
    "from IPython.display import display"
   ]
  },
  {
   "cell_type": "markdown",
   "id": "93b94f3e-9a90-491c-a868-66b23ae00d4f",
   "metadata": {},
   "source": [
    "# Explanation\n",
    "\n",
    "An interactive widget to plot the density profiles."
   ]
  },
  {
   "cell_type": "code",
   "execution_count": 2,
   "id": "82476915-4125-436e-902d-8026bf9707cd",
   "metadata": {},
   "outputs": [],
   "source": [
    "### Load in the descriptors of the bar data\n",
    "allbardata = pd.read_csv(\"data/bardata_allexperiments_extended.csv\")\n",
    "\n",
    "#### experiment and bar labels as strings\n",
    "allbardata['Experiment'] = allbardata['Experiment'].astype(str)\n",
    "allbardata['Bar'] = allbardata['Bar'].astype(str)\n",
    "allbardata.set_index(['Experiment', 'Bar'], inplace=True)\n",
    "\n",
    "###### get the intended printed length (these are multiples of 10 micron. The 1.084 comes from the resolution of the image (pixels per micron))\n",
    "allbardata['Length_micron'] = np.round((allbardata['Length']/1.084/20))*20\n",
    "\n",
    "##### drop the square bars and the very long ones\n",
    "allbardata.drop( allbardata.index[allbardata['Length_micron']==40], inplace=True)\n",
    "allbardata.drop( allbardata.index[allbardata['Length_micron']>330], inplace=True)\n",
    "\n",
    "#### Load in all the density profiles\n",
    "### and do light processing (smoothing)\n",
    "avgn = 11 # averaging window\n",
    "\n",
    "density_profiles = {}\n",
    "for exp, bar in allbardata.index:\n",
    "    filename = f'data/bars_density_profiles/{exp}_bar{bar}_threxp_densityhigh_n.txt'\n",
    "    xrho = np.loadtxt(filename) ## first row: x values, the rest is density per timepoint\n",
    "    x = xrho[0]\n",
    "    rho = xrho[1:]\n",
    "    rho_smooth = np.zeros_like(rho)\n",
    "\n",
    "    for i in range(rho.shape[1]): #### iterate over spatial positions\n",
    "        rh_extended = np.hstack((avgn//2 * [rho[0,i]], rho[:,i], avgn//2 * [rho[-1,i]]))\n",
    "        rho_smooth[:,i] = np.convolve(rh_extended, np.ones(avgn)/avgn, mode='same')[avgn//2: - avgn//2+1]\n",
    "\n",
    "    ### save to dictionary\n",
    "    density_profiles[(exp,bar)] = (x,rho,rho_smooth)\n",
    "\n"
   ]
  },
  {
   "cell_type": "code",
   "execution_count": 4,
   "id": "ab2b3659-406b-4ad2-a530-08bc2168f631",
   "metadata": {},
   "outputs": [
    {
     "data": {
      "application/vnd.jupyter.widget-view+json": {
       "model_id": "a4e7270f684741d986cfd6643ee9da6f",
       "version_major": 2,
       "version_minor": 0
      },
      "text/plain": [
       "interactive(children=(Dropdown(description='exp', options=('20240311', '20240317', '20240320', '20240404', '20…"
      ]
     },
     "metadata": {},
     "output_type": "display_data"
    },
    {
     "data": {
      "text/plain": [
       "<function __main__.plot_profile(exp, bar, frame=0)>"
      ]
     },
     "execution_count": 4,
     "metadata": {},
     "output_type": "execute_result"
    }
   ],
   "source": [
    "def plot_profile(exp, bar, frame=0):\n",
    "    fig, axes = plt.subplots(1, 2, figsize=(10, 4), width_ratios=[1, 2])\n",
    "\n",
    "    ### left: profile at this frame\n",
    "    x, rho, rho_smooth = density_profiles[(exp, bar)]\n",
    "\n",
    "    axes[0].plot(x, rho[frame], label='original density')\n",
    "    axes[0].plot(x, rho_smooth[frame], label='smoothed in time')\n",
    "    axes[0].set_xlabel(\"Position (µm)\")\n",
    "    axes[1].set_ylabel(\"Density (cells/µm)\")\n",
    "    axes[0].set_title(f\"Frame {frame}\")\n",
    "    axes[0].legend()\n",
    "\n",
    "    ### right: kymo\n",
    "    t = np.arange(rho.shape[0])\n",
    "    pp=axes[1].pcolormesh(t, x, rho_smooth.T)\n",
    "    fig.colorbar(pp, label='Density')\n",
    "    axes[1].set_xlabel(\"Time (frames)\")\n",
    "    axes[1].set_ylabel(\"Position (µm)\")\n",
    "    ### add line for the current frame\n",
    "    axes[1].axvline(frame, color='tab:red')\n",
    "ipywidgets.interact(plot_profile, exp = allbardata.index.get_level_values(0).unique(), \\\n",
    "                    bar = allbardata.index.get_level_values(1).unique(), \\\n",
    "                   frame = (0, 200))"
   ]
  },
  {
   "cell_type": "code",
   "execution_count": null,
   "id": "4f87d458-f963-4725-a346-5358dd05a7bc",
   "metadata": {},
   "outputs": [],
   "source": []
  }
 ],
 "metadata": {
  "kernelspec": {
   "display_name": "Python 3 (ipykernel)",
   "language": "python",
   "name": "python3"
  },
  "language_info": {
   "codemirror_mode": {
    "name": "ipython",
    "version": 3
   },
   "file_extension": ".py",
   "mimetype": "text/x-python",
   "name": "python",
   "nbconvert_exporter": "python",
   "pygments_lexer": "ipython3",
   "version": "3.12.2"
  }
 },
 "nbformat": 4,
 "nbformat_minor": 5
}
