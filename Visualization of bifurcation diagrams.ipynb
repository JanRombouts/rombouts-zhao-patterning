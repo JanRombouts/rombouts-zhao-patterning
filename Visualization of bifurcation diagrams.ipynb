{
 "cells": [
  {
   "cell_type": "code",
   "execution_count": 2,
   "id": "e1cd455f-2509-4a1a-8513-bc6afae4296f",
   "metadata": {},
   "outputs": [],
   "source": [
    "import numpy as np\n",
    "import matplotlib.pyplot as plt\n",
    "import pandas as pd\n",
    "import matplotlib.gridspec as gridspec\n",
    "import dill\n",
    "import ipywidgets\n",
    "\n",
    "import nlpde_bifurcations"
   ]
  },
  {
   "cell_type": "markdown",
   "id": "343c3608-fdc0-4380-891f-f40737d86ac9",
   "metadata": {},
   "source": [
    "# Explanation\n",
    "\n",
    "In this notebook we load in the pickled files that contain the data for the bifurcation diagram. \n",
    "We provide interactive widgets to explore the diagrams.\n",
    "\n",
    "Each pickled object that is saved in a .pkl file is a list of 'Branch' objects, each denoting one computed branch of the diagram. \n",
    "\n",
    "Each branch contains 'points', corresponding to the  density profiles and the associated parameters + the largest eigenvalue. "
   ]
  },
  {
   "cell_type": "code",
   "execution_count": 7,
   "id": "59d2e07e-5c0b-4716-9460-a0a2ed8d9c58",
   "metadata": {},
   "outputs": [],
   "source": [
    "#### Load a diagram\n",
    "\n",
    "if 1:\n",
    "    #### For the diagram in Fig. 4a (L on horizontal axis)\n",
    "    filename = \"data/bifurcation_diagrams/branches_case0_exp_alpha20.0_rho00.4_N300_20250217.pkl\"\n",
    "    parname = r\"$\\ell$\"\n",
    "\n",
    "if 0:\n",
    "    ### For the diagram in Fig. 3c (beta on horizontal axis)\n",
    "    filename = \"data/bifurcation_diagrams/branches_exp_L5.0_rho00.4_alpha20_gamma0_20250205.pkl\"\n",
    "    parname = r'$\\beta$'\n",
    "\n",
    "if 0:\n",
    "    ### for the diagram in Fig. S1,S2 (alpha on horizontal axis)\n",
    "    filename = \"data/bifurcation_diagrams/branches_case0_exp_L5_rho00.4_betafactor1_20250205.pkl\"\n",
    "    parname = r'$\\alpha$'\n",
    "\n",
    "with open(filename, 'rb') as f:\n",
    "    bd = dill.load(f)"
   ]
  },
  {
   "cell_type": "code",
   "execution_count": 8,
   "id": "02bad0bc-5429-4fa4-a2f6-224569cf2fdc",
   "metadata": {},
   "outputs": [
    {
     "data": {
      "application/vnd.jupyter.widget-view+json": {
       "model_id": "614c752ca745421bb552348d1056102a",
       "version_major": 2,
       "version_minor": 0
      },
      "text/plain": [
       "interactive(children=(IntSlider(value=0, description='branch_index', max=19), IntSlider(value=0, description='…"
      ]
     },
     "metadata": {},
     "output_type": "display_data"
    },
    {
     "data": {
      "text/plain": [
       "<function __main__.plot_state(branch_index=0, point_index=0, stability_same_color=False)>"
      ]
     },
     "execution_count": 8,
     "metadata": {},
     "output_type": "execute_result"
    }
   ],
   "source": [
    "def plot_state(branch_index=0,point_index=0, stability_same_color=False):\n",
    "    fig  = plt.figure(figsize=(12,4))\n",
    "    gs = gridspec.GridSpec(nrows=2, ncols=2, right=.8)\n",
    "\n",
    "    ax_ss = fig.add_subplot(gs[0,0])\n",
    "    ax_eig = fig.add_subplot(gs[1,0])\n",
    "    ax_diag = fig.add_subplot(gs[:,1])\n",
    "\n",
    "    ### select branch and point on branch\n",
    "    b = bd[branch_index]\n",
    "    stst = b.points[point_index]\n",
    "\n",
    "    ## plot density profile\n",
    "    ax_ss.plot(stst.x, stst.X[:-1])\n",
    "    ax_ss.set_title('Parameter: {:.3f}, stable: {}'.format(stst.pars[b.par_index],stst.stable))\n",
    "    ax_ss.set_ylim(-0.1, 1.1)\n",
    "    # draw eigenvalues\n",
    "    ax_eig.plot(stst.eigenvalues.real, stst.eigenvalues.imag, 'x')\n",
    "    ax_eig.set_title('Eigenvalues')\n",
    "    \n",
    "    # draw the full diagram branches on the right\n",
    "    for bi,b in enumerate(bd):\n",
    "        pv = b.get_point_pars()\n",
    "        muv = b.get_point_measures()\n",
    "        stab = b.get_point_stability()\n",
    "        if stability_same_color:\n",
    "            ls,=ax_diag.plot(pv[stab],muv[stab],label=b.name, color='tab:blue')\n",
    "            ax_diag.plot(pv[~stab],muv[~stab],':',color='tab:red')\n",
    "        else:\n",
    "            ls,=ax_diag.plot(pv[stab],muv[stab],label=bi)\n",
    "            ax_diag.plot(pv[~stab],muv[~stab],':',color=ls.get_color())\n",
    "    ax_diag.legend(title='Branch name', fontsize=6, bbox_to_anchor=(1, .51), loc='center left', ncols=2)\n",
    "    ax_diag.set_xlabel(parname)\n",
    "    ax_diag.set_ylabel(r'Order parameter $\\mu(\\rho)$')\n",
    "    ## plot current\n",
    "    ax_diag.plot(stst.pars[b.par_index], stst.mu, 'o')\n",
    "    #ax_diag.set_xlim(-1, 30)\n",
    "    \n",
    "ipywidgets.interact(plot_state, branch_index=(0, len(bd)-1),point_index=(0, 200-1))"
   ]
  },
  {
   "cell_type": "code",
   "execution_count": null,
   "id": "e52f234d-e631-457e-bf8a-dd4b57534bad",
   "metadata": {},
   "outputs": [],
   "source": []
  }
 ],
 "metadata": {
  "kernelspec": {
   "display_name": "Python 3 (ipykernel)",
   "language": "python",
   "name": "python3"
  },
  "language_info": {
   "codemirror_mode": {
    "name": "ipython",
    "version": 3
   },
   "file_extension": ".py",
   "mimetype": "text/x-python",
   "name": "python",
   "nbconvert_exporter": "python",
   "pygments_lexer": "ipython3",
   "version": "3.12.2"
  }
 },
 "nbformat": 4,
 "nbformat_minor": 5
}
